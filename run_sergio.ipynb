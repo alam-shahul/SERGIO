{
 "cells": [
  {
   "cell_type": "code",
   "execution_count": 1,
   "metadata": {},
   "outputs": [],
   "source": [
    "import numpy as np\n",
    "import pandas as pd\n",
    "from SERGIO.sergio import sergio"
   ]
  },
  {
   "cell_type": "markdown",
   "metadata": {},
   "source": [
    "# Simulate Clean Data _ Steady-State Simulation"
   ]
  },
  {
   "cell_type": "code",
   "execution_count": null,
   "metadata": {
    "scrolled": true
   },
   "outputs": [
    {
     "name": "stdout",
     "output_type": "stream",
     "text": [
      "Finding levels\n",
      "Start simulating new level\n",
      "There are 2 genes to simulate in this layer\n",
      "Done with current level\n",
      "Start simulating new level\n",
      "There are 3 genes to simulate in this layer\n",
      "Done with current level\n",
      "Start simulating new level\n",
      "There are 5 genes to simulate in this layer\n",
      "Done with current level\n",
      "Start simulating new level\n",
      "There are 9 genes to simulate in this layer\n",
      "Done with current level\n",
      "Start simulating new level\n",
      "There are 27 genes to simulate in this layer\n",
      "Done with current level\n",
      "Start simulating new level\n",
      "There are 83 genes to simulate in this layer\n",
      "Done with current level\n",
      "Start simulating new level\n",
      "There are 1148 genes to simulate in this layer\n"
     ]
    }
   ],
   "source": [
    "sim = sergio(number_genes=1277, number_bins = 9, number_sc = 300, noise_params = 1, decays=0.8, sampling_state=15, noise_type='dpd')\n",
    "sim.build_graph(input_file_taregts ='Input_with_Autoregulation/Ecoli_1200_net4_input_extended_GRN_1277_genes.txt', input_file_regs ='Input_with_Autoregulation/Ecoli_1200_net4_input_MRs.txt', shared_coop_state=2)\n",
    "sim.simulate()\n",
    "expr = sim.getExpressions()\n",
    "expr_clean = np.concatenate(expr, axis = 1)"
   ]
  },
  {
   "cell_type": "code",
   "execution_count": 7,
   "metadata": {},
   "outputs": [],
   "source": [
    "np.save(\"autoregulatory_output/clean_gene_expression.npy\", expr_clean)"
   ]
  },
  {
   "cell_type": "markdown",
   "metadata": {
    "collapsed": true
   },
   "source": [
    "# Add Technical Noise _ Steady-State Simulations"
   ]
  },
  {
   "cell_type": "code",
   "execution_count": 8,
   "metadata": {},
   "outputs": [],
   "source": [
    "for replicate in range(100):\n",
    "    \"\"\"\n",
    "    Add outlier genes\n",
    "    \"\"\"\n",
    "    expr_O = sim.outlier_effect(expr, outlier_prob = 0.01, mean = 0.8, scale = 1)\n",
    "\n",
    "    \"\"\"\n",
    "    Add Library Size Effect\n",
    "    \"\"\"\n",
    "    libFactor, expr_O_L = sim.lib_size_effect(expr_O, mean = 4.6, scale = 0.4)\n",
    "\n",
    "    \"\"\"\n",
    "    Add Dropouts\n",
    "    \"\"\"\n",
    "    binary_ind = sim.dropout_indicator(expr_O_L, shape = 6.5, percentile = 82)\n",
    "    expr_O_L_D = np.multiply(binary_ind, expr_O_L)\n",
    "\n",
    "    \"\"\"\n",
    "    Convert to UMI count\n",
    "    \"\"\"\n",
    "    count_matrix = sim.convert_to_UMIcounts(expr_O_L_D)\n",
    "\n",
    "    \"\"\"\n",
    "    Make a 2d gene expression matrix\n",
    "    \"\"\"\n",
    "    count_matrix = np.concatenate(count_matrix, axis = 1)\n",
    "    \n",
    "    np.save(\"autoregulatory_output/noisy_gene_expression_replicate_{}.npy\".format(replicate), count_matrix)"
   ]
  },
  {
   "cell_type": "markdown",
   "metadata": {},
   "source": [
    "# Simulate Clean Data _ differentiation Simulation"
   ]
  },
  {
   "cell_type": "code",
   "execution_count": 4,
   "metadata": {},
   "outputs": [
    {
     "name": "stdout",
     "output_type": "stream",
     "text": [
      "Start simulating new cell type\n",
      "binID: 0\n",
      "number of initial cells: 21\n",
      "Done with current cell type\n",
      "Start simulating new cell type\n",
      "binID: 1\n",
      "number of initial cells: 24\n",
      "Done with current cell type\n",
      "Start simulating new cell type\n",
      "binID: 2\n",
      "number of initial cells: 27\n",
      "Done with current cell type\n",
      "Start simulating new cell type\n",
      "binID: 5\n",
      "number of initial cells: 24\n",
      "Done with current cell type\n",
      "Start simulating new cell type\n",
      "binID: 4\n",
      "number of initial cells: 24\n",
      "Done with current cell type\n",
      "Start simulating new cell type\n",
      "binID: 3\n",
      "number of initial cells: 24\n",
      "Done with current cell type\n"
     ]
    }
   ],
   "source": [
    "df = pd.read_csv('data_sets/De-noised_100G_6T_300cPerT_dynamics_7_DS6/bMat_cID7.tab', sep='\\t', header=None, index_col=None)\n",
    "bMat = df.values\n",
    "\n",
    "sim = sergio(number_genes=100, number_bins = 6, number_sc = 300, noise_params = 0.2, decays=0.8, sampling_state = 1, noise_params_splice = 0.07, noise_type='dpd', dynamics=True, bifurcation_matrix= bMat)\n",
    "sim.build_graph(input_file_taregts ='data_sets/De-noised_100G_6T_300cPerT_dynamics_7_DS6/Interaction_cID_7.txt', input_file_regs='data_sets/De-noised_100G_6T_300cPerT_dynamics_7_DS6/Regs_cID_7.txt', shared_coop_state=2)\n",
    "sim.simulate_dynamics()\n",
    "exprU, exprS = sim.getExpressions_dynamics()\n",
    "exprU_clean = np.concatenate(exprU, axis = 1)\n",
    "exprS_clean = np.concatenate(exprS, axis = 1)"
   ]
  },
  {
   "cell_type": "markdown",
   "metadata": {},
   "source": [
    "# Add Technical Noise _ differentiation Simulations"
   ]
  },
  {
   "cell_type": "code",
   "execution_count": 5,
   "metadata": {},
   "outputs": [],
   "source": [
    "\"\"\"\n",
    "Add outlier genes\n",
    "\"\"\"\n",
    "exprU_O, exprS_O = sim.outlier_effect_dynamics(exprU, exprS, outlier_prob = 0.01, mean = 0.8, scale = 1)\n",
    "\n",
    "\"\"\"\n",
    "Add Library Size Effect\n",
    "\"\"\"\n",
    "libFactor, exprU_O_L, exprS_O_L = sim.lib_size_effect_dynamics(exprU_O, exprS_O, mean = 4.6, scale = 0.4)\n",
    "\n",
    "\"\"\"\n",
    "Add Dropouts\n",
    "\"\"\"\n",
    "binary_indU, binary_indS = sim.dropout_indicator_dynamics(exprU_O_L, exprS_O_L, shape = 6.5, percentile = 82)\n",
    "exprU_O_L_D = np.multiply(binary_indU, exprU_O_L)\n",
    "exprS_O_L_D = np.multiply(binary_indS, exprS_O_L)\n",
    "\n",
    "\"\"\"\n",
    "Convert to UMI count\n",
    "\"\"\"\n",
    "count_matrix_U, count_matrix_S = sim.convert_to_UMIcounts_dynamics(exprU_O_L_D, exprS_O_L_D)\n",
    "\n",
    "\"\"\"\n",
    "Make 2d spliced and unspliced expression matrices\n",
    "\"\"\"\n",
    "count_matrix_U = np.concatenate(count_matrix_U, axis = 1)\n",
    "count_matrix_S = np.concatenate(count_matrix_S, axis = 1)"
   ]
  },
  {
   "cell_type": "code",
   "execution_count": null,
   "metadata": {},
   "outputs": [],
   "source": []
  }
 ],
 "metadata": {
  "kernelspec": {
   "display_name": "Python 3",
   "language": "python",
   "name": "python3"
  },
  "language_info": {
   "codemirror_mode": {
    "name": "ipython",
    "version": 3
   },
   "file_extension": ".py",
   "mimetype": "text/x-python",
   "name": "python",
   "nbconvert_exporter": "python",
   "pygments_lexer": "ipython3",
   "version": "3.8.5"
  }
 },
 "nbformat": 4,
 "nbformat_minor": 2
}
